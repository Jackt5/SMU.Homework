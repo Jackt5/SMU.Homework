{
 "cells": [
  {
   "cell_type": "markdown",
   "metadata": {},
   "source": [
    "## Observations and Insights "
   ]
  },
  {
   "cell_type": "markdown",
   "metadata": {},
   "source": []
  },
  {
   "cell_type": "code",
   "execution_count": 1,
   "metadata": {},
   "outputs": [],
   "source": [
    "# Dependencies and Setup\n",
    "import matplotlib.pyplot as plt\n",
    "import pandas as pd\n",
    "import scipy.stats as st\n",
    "from scipy.stats import linregress\n",
    "import numpy as np\n",
    "import statistics as sts\n",
    "\n",
    "# Study data files\n",
    "mouse_metadata_path = \"data/Mouse_metadata.csv\"\n",
    "study_results_path = \"data/Study_results.csv\"\n",
    "\n",
    "# Read the mouse data and the study results\n",
    "mouse_metadata = pd.read_csv(mouse_metadata_path)\n",
    "study_results = pd.read_csv(study_results_path)\n",
    "\n",
    "# Combine the data into a single dataset\n",
    "df = pd.merge(left = mouse_metadata, right = study_results, how='outer', on= \"Mouse ID\", left_on=None, right_on=None,\n",
    "         left_index=False, right_index=False, sort=True,\n",
    "         suffixes=('_x', '_y'), copy=True, indicator=False,\n",
    "         validate=None)"
   ]
  },
  {
   "cell_type": "code",
   "execution_count": 2,
   "metadata": {},
   "outputs": [
    {
     "data": {
      "text/plain": [
       "249"
      ]
     },
     "execution_count": 2,
     "metadata": {},
     "output_type": "execute_result"
    }
   ],
   "source": [
    "# Checking the number of mice in the DataFrame.\n",
    "df['Mouse ID'].nunique()"
   ]
  },
  {
   "cell_type": "code",
   "execution_count": 3,
   "metadata": {},
   "outputs": [],
   "source": [
    "# Getting the duplicate mice by ID number that shows up for Mouse ID and Timepoint. \n",
    "duplicateDF = df[df.duplicated(['Mouse ID', 'Timepoint'])]"
   ]
  },
  {
   "cell_type": "code",
   "execution_count": 4,
   "metadata": {},
   "outputs": [],
   "source": [
    "# Optional: Get all the data for the duplicate mouse ID. \n",
    "duplicateMouseDF = df.loc[df['Mouse ID'] == 'g989']"
   ]
  },
  {
   "cell_type": "code",
   "execution_count": 5,
   "metadata": {},
   "outputs": [],
   "source": [
    "# Create a clean DataFrame by dropping the duplicate mouse by its ID.\n",
    "cleanDF = df[df['Mouse ID'] != 'g989']"
   ]
  },
  {
   "cell_type": "code",
   "execution_count": 6,
   "metadata": {},
   "outputs": [
    {
     "data": {
      "text/plain": [
       "248"
      ]
     },
     "execution_count": 6,
     "metadata": {},
     "output_type": "execute_result"
    }
   ],
   "source": [
    "# Checking the number of mice in the clean DataFrame.\n",
    "cleanDF['Mouse ID'].nunique()"
   ]
  },
  {
   "cell_type": "markdown",
   "metadata": {},
   "source": [
    "## Summary Statistics"
   ]
  },
  {
   "cell_type": "code",
   "execution_count": 7,
   "metadata": {},
   "outputs": [],
   "source": [
    "# in each summary statistics table there should be a 'title' per se above the column names\n"
   ]
  },
  {
   "cell_type": "code",
   "execution_count": 8,
   "metadata": {},
   "outputs": [
    {
     "name": "stdout",
     "output_type": "stream",
     "text": [
      "\u001b[1m                    Tumor Volume (mm3)\u001b[0m\n"
     ]
    },
    {
     "data": {
      "text/html": [
       "<div>\n",
       "<style scoped>\n",
       "    .dataframe tbody tr th:only-of-type {\n",
       "        vertical-align: middle;\n",
       "    }\n",
       "\n",
       "    .dataframe tbody tr th {\n",
       "        vertical-align: top;\n",
       "    }\n",
       "\n",
       "    .dataframe thead th {\n",
       "        text-align: right;\n",
       "    }\n",
       "</style>\n",
       "<table border=\"1\" class=\"dataframe\">\n",
       "  <thead>\n",
       "    <tr style=\"text-align: right;\">\n",
       "      <th></th>\n",
       "      <th>Mean</th>\n",
       "      <th>Median</th>\n",
       "      <th>Variance</th>\n",
       "      <th>Std</th>\n",
       "      <th>SEM</th>\n",
       "    </tr>\n",
       "    <tr>\n",
       "      <th>Drug Regimen</th>\n",
       "      <th></th>\n",
       "      <th></th>\n",
       "      <th></th>\n",
       "      <th></th>\n",
       "      <th></th>\n",
       "    </tr>\n",
       "  </thead>\n",
       "  <tbody>\n",
       "    <tr>\n",
       "      <th>Infubinol</th>\n",
       "      <td>40.675741</td>\n",
       "      <td>41.557809</td>\n",
       "      <td>24.947764</td>\n",
       "      <td>4.983904</td>\n",
       "      <td>0.329346</td>\n",
       "    </tr>\n",
       "    <tr>\n",
       "      <th>Placebo</th>\n",
       "      <td>52.884795</td>\n",
       "      <td>51.820584</td>\n",
       "      <td>43.128684</td>\n",
       "      <td>6.548770</td>\n",
       "      <td>0.492236</td>\n",
       "    </tr>\n",
       "    <tr>\n",
       "      <th>Ceftamin</th>\n",
       "      <td>54.033581</td>\n",
       "      <td>52.288934</td>\n",
       "      <td>61.168083</td>\n",
       "      <td>7.799368</td>\n",
       "      <td>0.581331</td>\n",
       "    </tr>\n",
       "    <tr>\n",
       "      <th>Stelasyn</th>\n",
       "      <td>52.591172</td>\n",
       "      <td>51.776157</td>\n",
       "      <td>39.290177</td>\n",
       "      <td>6.250556</td>\n",
       "      <td>0.469821</td>\n",
       "    </tr>\n",
       "    <tr>\n",
       "      <th>Zoniferol</th>\n",
       "      <td>54.233149</td>\n",
       "      <td>52.431737</td>\n",
       "      <td>59.450562</td>\n",
       "      <td>7.689090</td>\n",
       "      <td>0.573111</td>\n",
       "    </tr>\n",
       "    <tr>\n",
       "      <th>Ramicane</th>\n",
       "      <td>53.236507</td>\n",
       "      <td>51.818479</td>\n",
       "      <td>48.533355</td>\n",
       "      <td>6.947423</td>\n",
       "      <td>0.516398</td>\n",
       "    </tr>\n",
       "    <tr>\n",
       "      <th>Ketapril</th>\n",
       "      <td>40.216745</td>\n",
       "      <td>40.673236</td>\n",
       "      <td>23.486704</td>\n",
       "      <td>4.835669</td>\n",
       "      <td>0.320955</td>\n",
       "    </tr>\n",
       "    <tr>\n",
       "      <th>Propriva</th>\n",
       "      <td>55.235638</td>\n",
       "      <td>53.698743</td>\n",
       "      <td>68.553577</td>\n",
       "      <td>8.257659</td>\n",
       "      <td>0.603860</td>\n",
       "    </tr>\n",
       "    <tr>\n",
       "      <th>Naftisol</th>\n",
       "      <td>52.320930</td>\n",
       "      <td>50.446266</td>\n",
       "      <td>43.852013</td>\n",
       "      <td>6.599675</td>\n",
       "      <td>0.544332</td>\n",
       "    </tr>\n",
       "    <tr>\n",
       "      <th>Capomulin</th>\n",
       "      <td>54.331565</td>\n",
       "      <td>52.509285</td>\n",
       "      <td>66.173479</td>\n",
       "      <td>8.112811</td>\n",
       "      <td>0.596466</td>\n",
       "    </tr>\n",
       "  </tbody>\n",
       "</table>\n",
       "</div>"
      ],
      "text/plain": [
       "                   Mean     Median   Variance       Std       SEM\n",
       "Drug Regimen                                                     \n",
       "Infubinol     40.675741  41.557809  24.947764  4.983904  0.329346\n",
       "Placebo       52.884795  51.820584  43.128684  6.548770  0.492236\n",
       "Ceftamin      54.033581  52.288934  61.168083  7.799368  0.581331\n",
       "Stelasyn      52.591172  51.776157  39.290177  6.250556  0.469821\n",
       "Zoniferol     54.233149  52.431737  59.450562  7.689090  0.573111\n",
       "Ramicane      53.236507  51.818479  48.533355  6.947423  0.516398\n",
       "Ketapril      40.216745  40.673236  23.486704  4.835669  0.320955\n",
       "Propriva      55.235638  53.698743  68.553577  8.257659  0.603860\n",
       "Naftisol      52.320930  50.446266  43.852013  6.599675  0.544332\n",
       "Capomulin     54.331565  52.509285  66.173479  8.112811  0.596466"
      ]
     },
     "execution_count": 8,
     "metadata": {},
     "output_type": "execute_result"
    }
   ],
   "source": [
    "# Generate a summary statistics table of mean, median, variance, standard deviation, and SEM of the tumor volume for each regimen\n",
    "\n",
    "# This method is the most straightforward, creating multiple series and putting them all together at the end.\n",
    "infubinol = []\n",
    "placebo = []\n",
    "ceftamin = []\n",
    "stelasyn = []\n",
    "zoniferol = []\n",
    "ramicane = []\n",
    "ketapril = []\n",
    "propriva = []\n",
    "naftisol = []\n",
    "capomulin = []\n",
    "for i in range(1880):\n",
    "    if cleanDF.iloc[i-1, 1] == 'Infubinol':\n",
    "        infubinol.append(cleanDF.iloc[i-1, 6])\n",
    "    if cleanDF.iloc[i-1, 1] == 'Placebo':\n",
    "        placebo.append(cleanDF.iloc[i-1, 6])\n",
    "    if cleanDF.iloc[i-1, 1] == 'Ceftamin':\n",
    "        ceftamin.append(cleanDF.iloc[i-1, 6])\n",
    "    if cleanDF.iloc[i-1, 1] == 'Stelasyn':\n",
    "        stelasyn.append(cleanDF.iloc[i-1, 6])\n",
    "    if cleanDF.iloc[i-1, 1] == 'Zoniferol':\n",
    "        zoniferol.append(cleanDF.iloc[i-1, 6])\n",
    "    if cleanDF.iloc[i-1, 1] == 'Ramicane':\n",
    "        ramicane.append(cleanDF.iloc[i-1, 6])\n",
    "    if cleanDF.iloc[i-1, 1] == 'Ketapril':\n",
    "        ketapril.append(cleanDF.iloc[i-1, 6])\n",
    "    if cleanDF.iloc[i-1, 1] == 'Propriva':\n",
    "        propriva.append(cleanDF.iloc[i-1, 6])\n",
    "    if cleanDF.iloc[i-1, 1] == 'Naftisol':\n",
    "        naftisol.append(cleanDF.iloc[i-1, 6])\n",
    "    if cleanDF.iloc[i-1, 1] == 'Capomulin':\n",
    "        capomulin.append(cleanDF.iloc[i-1, 6])\n",
    "meanData = []\n",
    "drugs = [infubinol, placebo, ceftamin, stelasyn, zoniferol, ramicane, ketapril, propriva, naftisol, capomulin]\n",
    "for i in range(len(drugs)):\n",
    "        meanData.append(sts.mean(drugs[i-1]))\n",
    "mean = pd.Series(data = meanData)\n",
    "medianData = []\n",
    "for i in range(len(drugs)):\n",
    "        medianData.append(sts.median(drugs[i-1]))\n",
    "median = pd.Series(data = medianData)\n",
    "varianceData = []\n",
    "for i in range(len(drugs)):\n",
    "        varianceData.append(sts.variance(drugs[i-1]))\n",
    "variance = pd.Series(data = varianceData)\n",
    "stdData = []\n",
    "for i in range(len(drugs)):\n",
    "        stdData.append(sts.pstdev(drugs[i-1]))\n",
    "std = pd.Series(data = stdData)\n",
    "semData = []\n",
    "for i in range(len(drugs)):\n",
    "        semData.append(st.sem(drugs[i-1]))\n",
    "sem = pd.Series(data = semData)\n",
    "summaryStatistics = pd.concat([mean, median, variance, std, sem], axis = 1, ignore_index = True)\n",
    "summaryStatistics.columns = ['Mean', 'Median', 'Variance', 'Std', 'SEM']\n",
    "index = ['Infubinol', 'Placebo', 'Ceftamin', 'Stelasyn', 'Zoniferol', 'Ramicane', 'Ketapril', 'Propriva', 'Naftisol', 'Capomulin']\n",
    "summaryStatistics = summaryStatistics.reset_index(drop=True,inplace=False)\n",
    "summaryStatistics['index'] = index\n",
    "summaryStatistics = summaryStatistics.set_index(summaryStatistics['index'],inplace=False)\n",
    "summaryStatistics.index.name = 'Drug Regimen'\n",
    "summaryStatistics = summaryStatistics.drop(columns = ['index'])\n",
    "class color:\n",
    "   BOLD = '\\033[1m'\n",
    "   END = '\\033[0m'\n",
    "print(color.BOLD + '                    Tumor Volume (mm3)' + color.END)\n",
    "summaryStatistics\n",
    "# ['Infubinol', 'Placebo', 'Ceftamin', 'Stelasyn', 'Zoniferol',\n",
    "#        'Ramicane', 'Ketapril', 'Propriva', 'Naftisol', 'Capomulin']"
   ]
  },
  {
   "cell_type": "code",
   "execution_count": 9,
   "metadata": {
    "scrolled": true
   },
   "outputs": [
    {
     "name": "stdout",
     "output_type": "stream",
     "text": [
      "\u001b[1m                    Tumor Volume (mm3)\u001b[0m\n"
     ]
    },
    {
     "data": {
      "text/html": [
       "<div>\n",
       "<style scoped>\n",
       "    .dataframe tbody tr th:only-of-type {\n",
       "        vertical-align: middle;\n",
       "    }\n",
       "\n",
       "    .dataframe tbody tr th {\n",
       "        vertical-align: top;\n",
       "    }\n",
       "\n",
       "    .dataframe thead th {\n",
       "        text-align: right;\n",
       "    }\n",
       "</style>\n",
       "<table border=\"1\" class=\"dataframe\">\n",
       "  <thead>\n",
       "    <tr style=\"text-align: right;\">\n",
       "      <th></th>\n",
       "      <th>Mean</th>\n",
       "      <th>Median</th>\n",
       "      <th>Variance</th>\n",
       "      <th>Std</th>\n",
       "      <th>SEM</th>\n",
       "    </tr>\n",
       "    <tr>\n",
       "      <th>Drug Regimen</th>\n",
       "      <th></th>\n",
       "      <th></th>\n",
       "      <th></th>\n",
       "      <th></th>\n",
       "      <th></th>\n",
       "    </tr>\n",
       "  </thead>\n",
       "  <tbody>\n",
       "    <tr>\n",
       "      <th>Capomulin</th>\n",
       "      <td>40.675741</td>\n",
       "      <td>41.557809</td>\n",
       "      <td>24.947764</td>\n",
       "      <td>4.983904</td>\n",
       "      <td>0.329346</td>\n",
       "    </tr>\n",
       "    <tr>\n",
       "      <th>Ceftamin</th>\n",
       "      <td>52.591172</td>\n",
       "      <td>51.776157</td>\n",
       "      <td>39.290177</td>\n",
       "      <td>6.250556</td>\n",
       "      <td>0.469821</td>\n",
       "    </tr>\n",
       "    <tr>\n",
       "      <th>Infubinol</th>\n",
       "      <td>52.884795</td>\n",
       "      <td>51.820584</td>\n",
       "      <td>43.128684</td>\n",
       "      <td>6.548770</td>\n",
       "      <td>0.492236</td>\n",
       "    </tr>\n",
       "    <tr>\n",
       "      <th>Ketapril</th>\n",
       "      <td>55.235638</td>\n",
       "      <td>53.698743</td>\n",
       "      <td>68.553577</td>\n",
       "      <td>8.257659</td>\n",
       "      <td>0.603860</td>\n",
       "    </tr>\n",
       "    <tr>\n",
       "      <th>Naftisol</th>\n",
       "      <td>54.331565</td>\n",
       "      <td>52.509285</td>\n",
       "      <td>66.173479</td>\n",
       "      <td>8.112811</td>\n",
       "      <td>0.596466</td>\n",
       "    </tr>\n",
       "    <tr>\n",
       "      <th>Placebo</th>\n",
       "      <td>54.033581</td>\n",
       "      <td>52.288934</td>\n",
       "      <td>61.168083</td>\n",
       "      <td>7.799368</td>\n",
       "      <td>0.581331</td>\n",
       "    </tr>\n",
       "    <tr>\n",
       "      <th>Propriva</th>\n",
       "      <td>52.320930</td>\n",
       "      <td>50.446266</td>\n",
       "      <td>43.852013</td>\n",
       "      <td>6.599675</td>\n",
       "      <td>0.544332</td>\n",
       "    </tr>\n",
       "    <tr>\n",
       "      <th>Ramicane</th>\n",
       "      <td>40.216745</td>\n",
       "      <td>40.673236</td>\n",
       "      <td>23.486704</td>\n",
       "      <td>4.835669</td>\n",
       "      <td>0.320955</td>\n",
       "    </tr>\n",
       "    <tr>\n",
       "      <th>Stelasyn</th>\n",
       "      <td>54.233149</td>\n",
       "      <td>52.431737</td>\n",
       "      <td>59.450562</td>\n",
       "      <td>7.689090</td>\n",
       "      <td>0.573111</td>\n",
       "    </tr>\n",
       "    <tr>\n",
       "      <th>Zoniferol</th>\n",
       "      <td>53.236507</td>\n",
       "      <td>51.818479</td>\n",
       "      <td>48.533355</td>\n",
       "      <td>6.947423</td>\n",
       "      <td>0.516398</td>\n",
       "    </tr>\n",
       "  </tbody>\n",
       "</table>\n",
       "</div>"
      ],
      "text/plain": [
       "                   Mean     Median   Variance       Std       SEM\n",
       "Drug Regimen                                                     \n",
       "Capomulin     40.675741  41.557809  24.947764  4.983904  0.329346\n",
       "Ceftamin      52.591172  51.776157  39.290177  6.250556  0.469821\n",
       "Infubinol     52.884795  51.820584  43.128684  6.548770  0.492236\n",
       "Ketapril      55.235638  53.698743  68.553577  8.257659  0.603860\n",
       "Naftisol      54.331565  52.509285  66.173479  8.112811  0.596466\n",
       "Placebo       54.033581  52.288934  61.168083  7.799368  0.581331\n",
       "Propriva      52.320930  50.446266  43.852013  6.599675  0.544332\n",
       "Ramicane      40.216745  40.673236  23.486704  4.835669  0.320955\n",
       "Stelasyn      54.233149  52.431737  59.450562  7.689090  0.573111\n",
       "Zoniferol     53.236507  51.818479  48.533355  6.947423  0.516398"
      ]
     },
     "execution_count": 9,
     "metadata": {},
     "output_type": "execute_result"
    }
   ],
   "source": [
    "# Generate a summary statistics table of mean, median, variance, standard deviation, and SEM of the tumor volume for each regimen\n",
    "\n",
    "# This method produces everything in a single groupby function.\n",
    "summaryStatisticsData = cleanDF.groupby('Drug Regimen')['Tumor Volume (mm3)'].agg([sts.mean, sts.median, sts.variance, sts.pstdev, st.sem])\n",
    "summaryStatistics = pd.DataFrame(data = summaryStatisticsData)\n",
    "print(color.BOLD + '                    Tumor Volume (mm3)' + color.END)\n",
    "summaryStatistics = summaryStatistics.rename(columns = {'mean' : 'Mean', 'median' : 'Median', 'variance' : 'Variance', 'pstdev' : 'Std', 'sem' : 'SEM'})\n",
    "summaryStatistics"
   ]
  },
  {
   "cell_type": "markdown",
   "metadata": {},
   "source": [
    "## Bar Plots"
   ]
  },
  {
   "cell_type": "code",
   "execution_count": 10,
   "metadata": {},
   "outputs": [
    {
     "data": {
      "image/png": "[encoded data removed]",
      "text/plain": [
       "<Figure size 432x288 with 1 Axes>"
      ]
     },
     "metadata": {
      "needs_background": "light"
     },
     "output_type": "display_data"
    }
   ],
   "source": [
    "# Generate a bar plot showing the number of mice per time point for each treatment throughout the course of the study using pandas.\n",
    "micePerTimepoint = cleanDF.set_index([\"Timepoint\", 'Mouse ID']).count(level=\"Timepoint\")\n",
    "micePerTimepoint = micePerTimepoint.drop(['Sex', 'Age_months', 'Weight (g)', 'Tumor Volume (mm3)', 'Metastatic Sites'], axis=1)\n",
    "micePerTimepoint = micePerTimepoint.rename(columns = {'Drug Regimen' : 'Number of Mice'})\n",
    "barPlot = micePerTimepoint.plot.bar(ylim = [0, 251]);\n",
    "barPlot.get_legend().remove();\n",
    "barPlot.set_ylabel(\"Number of Mice\");\n",
    "barPlot.grid('on', which='major', axis='y')"
   ]
  },
  {
   "cell_type": "code",
   "execution_count": 11,
   "metadata": {},
   "outputs": [
    {
     "data": {
      "image/png": "[encoded data removed]",
      "text/plain": [
       "<Figure size 432x288 with 1 Axes>"
      ]
     },
     "metadata": {
      "needs_background": "light"
     },
     "output_type": "display_data"
    }
   ],
   "source": [
    "# Generate a bar plot showing the number of mice per time point for each treatment throughout the course of the study using pyplot.\n",
    "micePerTimepoint = micePerTimepoint.reset_index()\n",
    "x = micePerTimepoint.Timepoint.tolist()\n",
    "y = micePerTimepoint['Number of Mice'].tolist()\n",
    "plt.bar(x = x, height = y, width = 2.5)\n",
    "plt.xlabel('Timepoint')\n",
    "plt.ylabel('Number of Mice')\n",
    "plt.xticks(np.arange(0, 50, 5))\n",
    "plt.grid(axis = 'y')\n",
    "plt.ylim(ymin = 0, ymax = 250);\n",
    "plt.show()"
   ]
  },
  {
   "cell_type": "markdown",
   "metadata": {},
   "source": [
    "## Pie Plots"
   ]
  },
  {
   "cell_type": "code",
   "execution_count": 12,
   "metadata": {},
   "outputs": [
    {
     "data": {
      "image/png": "[encoded data removed]",
      "text/plain": [
       "<Figure size 432x288 with 1 Axes>"
      ]
     },
     "metadata": {},
     "output_type": "display_data"
    }
   ],
   "source": [
    "# Generate a pie plot showing the distribution of female versus male mice using pandas\n",
    "noDuplicates = cleanDF.drop_duplicates(subset = 'Mouse ID', keep = 'first')\n",
    "distributionOfSexes = noDuplicates.set_index([\"Sex\", 'Mouse ID']).count(level=\"Sex\")\n",
    "distributionOfSexes = distributionOfSexes.drop(['Timepoint', 'Age_months', 'Weight (g)', 'Tumor Volume (mm3)', 'Metastatic Sites'], axis=1)\n",
    "distributionOfSexes = distributionOfSexes.rename(columns = {'Drug Regimen' : 'Number of Mice'})\n",
    "distributionOfSexes.plot(kind = 'pie', subplots = True, autopct='%0.2f%%', legend = False);"
   ]
  },
  {
   "cell_type": "code",
   "execution_count": 13,
   "metadata": {},
   "outputs": [
    {
     "data": {
      "image/png": "[encoded data removed]",
      "text/plain": [
       "<Figure size 432x288 with 1 Axes>"
      ]
     },
     "metadata": {},
     "output_type": "display_data"
    }
   ],
   "source": [
    "# Generate a pie plot showing the distribution of female versus male mice using pyplot\n",
    "data = distributionOfSexes['Number of Mice'].tolist()\n",
    "plt.pie(data, labels = ['Female', 'Male'], autopct = '%0.2f%%');\n",
    "plt.title('Number of Mice', loc = 'left');"
   ]
  },
  {
   "cell_type": "markdown",
   "metadata": {},
   "source": [
    "## Quartiles, Outliers and Boxplots"
   ]
  },
  {
   "cell_type": "code",
   "execution_count": 14,
   "metadata": {},
   "outputs": [
    {
     "name": "stdout",
     "output_type": "stream",
     "text": [
      "There is no suspected outlier within the list of Capomulin final tumor volumes.\n",
      "There is no suspected outlier within the list of Ramicane final tumor volumes.\n",
      "There is no suspected outlier within the list of Infubinol final tumor volumes.\n",
      "There is no suspected outlier within the list of Ceftamin final tumor volumes.\n"
     ]
    }
   ],
   "source": [
    "# Calculate the final tumor volume of each mouse across four of the most promising treatment regimens. Calculate the IQR and quantitatively determine if there are any potential outliers. \n",
    "capomulinList = []\n",
    "capomulinIDs = []\n",
    "ramicaneList = []\n",
    "ramicaneIDs = []\n",
    "infubinolList = []\n",
    "infubinolIDs = []\n",
    "ceftaminList = []\n",
    "ceftaminIDs = []\n",
    "for i in range(1880):\n",
    "    if cleanDF.iloc[i, 1] == 'Capomulin':\n",
    "        if cleanDF.iloc[i, 0] not in capomulinIDs:\n",
    "            capomulinIDs.append(cleanDF.iloc[i, 0])\n",
    "            if capomulinIDs:\n",
    "                if cleanDF.iloc[i, 0] != cleanDF.iloc[i - 1, 0]:\n",
    "                    capomulinList.append(cleanDF.iloc[i - 1, 6])\n",
    "    elif cleanDF.iloc[i, 1] == 'Ramicane':\n",
    "        if cleanDF.iloc[i, 0] not in ramicaneIDs:\n",
    "            ramicaneIDs.append(cleanDF.iloc[i, 0])\n",
    "            if ramicaneIDs:\n",
    "                if cleanDF.iloc[i, 0] != cleanDF.iloc[i - 1, 0]:\n",
    "                    ramicaneList.append(cleanDF.iloc[i - 1, 6])\n",
    "    elif cleanDF.iloc[i, 1] == 'Infubinol':\n",
    "        if cleanDF.iloc[i, 0] not in infubinolIDs:\n",
    "            infubinolIDs.append(cleanDF.iloc[i, 0])\n",
    "            if infubinolIDs:\n",
    "                if cleanDF.iloc[i, 0] != cleanDF.iloc[i - 1, 0]:\n",
    "                    infubinolList.append(cleanDF.iloc[i - 1, 6])\n",
    "    elif cleanDF.iloc[i, 1] == 'Ceftamin':\n",
    "        if cleanDF.iloc[i, 0] not in ceftaminIDs:\n",
    "            ceftaminIDs.append(cleanDF.iloc[i, 0])\n",
    "            if ceftaminIDs:\n",
    "                if cleanDF.iloc[i, 0] != cleanDF.iloc[i - 1, 0]:\n",
    "                    ceftaminList.append(cleanDF.iloc[i - 1, 6])\n",
    "capomulinSeries = pd.Series(capomulinList)\n",
    "ramicaneSeries = pd.Series(ramicaneList)\n",
    "infubinolSeries = pd.Series(infubinolList)\n",
    "ceftaminSeries = pd.Series(ceftaminList)\n",
    "capomulinIQR = st.iqr(x = capomulinList)\n",
    "ramicaneIQR = st.iqr(x = ramicaneList)\n",
    "infubinolIQR = st.iqr(x = infubinolList)\n",
    "ceftaminIQR = st.iqr(x = ceftaminList)\n",
    "capomulinFirstQuartile = np.percentile(capomulinSeries, 25)\n",
    "capomulinThirdQuartile = np.percentile(capomulinSeries, 75)\n",
    "capomulinMax = (capomulinIQR * 1.5) + capomulinThirdQuartile\n",
    "capomulinMin = -(capomulinIQR * 1.5) + capomulinFirstQuartile\n",
    "outlier = False\n",
    "for i in range(len(capomulinList)):\n",
    "    if capomulinList[i-1] > capomulinMax:\n",
    "        outlier = True\n",
    "    elif capomulinList[i-1] < capomulinMin:\n",
    "        outlier = True\n",
    "if outlier == True:\n",
    "    print(\"There is a suspected outlier within the list of Capomulin final tumor volumes.\")\n",
    "else:\n",
    "    print(\"There is no suspected outlier within the list of Capomulin final tumor volumes.\")\n",
    "ramicaneFirstQuartile = np.percentile(ramicaneSeries, 25)\n",
    "ramicaneThirdQuartile = np.percentile(ramicaneSeries, 75)\n",
    "ramicaneMax = (ramicaneIQR * 1.5) + ramicaneThirdQuartile\n",
    "ramicaneMin = -(ramicaneIQR * 1.5) + ramicaneFirstQuartile\n",
    "outlier = False\n",
    "for i in range(len(ramicaneList)):\n",
    "    if ramicaneList[i-1] > ramicaneMax:\n",
    "        outlier = True\n",
    "    elif ramicaneList[i-1] < ramicaneMin:\n",
    "        outlier = True\n",
    "if outlier == True:\n",
    "    print(\"There is a suspected outlier within the list of Ramicane final tumor volumes.\")\n",
    "else:\n",
    "    print(\"There is no suspected outlier within the list of Ramicane final tumor volumes.\")\n",
    "infubinolFirstQuartile = np.percentile(infubinolSeries, 25)\n",
    "infubinolThirdQuartile = np.percentile(infubinolSeries, 75)\n",
    "infubinolMax = (infubinolIQR * 1.5) + infubinolThirdQuartile\n",
    "infubinolMin = -(infubinolIQR * 1.5) + infubinolFirstQuartile\n",
    "outlier = False\n",
    "for i in range(len(infubinolList)):\n",
    "    if infubinolList[i-1] > infubinolMax:\n",
    "        outlier = True\n",
    "    elif infubinolList[i-1] < infubinolMin:\n",
    "        outlier = True\n",
    "if outlier == True:\n",
    "    print(\"There is a suspected outlier within the list of Infubinol final tumor volumes.\")\n",
    "else:\n",
    "    print(\"There is no suspected outlier within the list of Infubinol final tumor volumes.\")\n",
    "ceftaminFirstQuartile = np.percentile(ceftaminSeries, 25)\n",
    "ceftaminThirdQuartile = np.percentile(ceftaminSeries, 75)\n",
    "ceftaminMax = (ceftaminIQR * 1.5) + ceftaminThirdQuartile\n",
    "ceftaminMin = -(ceftaminIQR * 1.5) + ceftaminFirstQuartile\n",
    "outlier = False\n",
    "for i in range(len(ceftaminList)):\n",
    "    if ceftaminList[i-1] > ceftaminMax:\n",
    "        outlier = True\n",
    "    elif ceftaminList[i-1] < ceftaminMin:\n",
    "        outlier = True\n",
    "if outlier == True:\n",
    "    print(\"There is a suspected outlier within the list of Ceftamin final tumor volumes.\")\n",
    "else:\n",
    "    print(\"There is no suspected outlier within the list of Ceftamin final tumor volumes.\")"
   ]
  },
  {
   "cell_type": "code",
   "execution_count": 15,
   "metadata": {},
   "outputs": [
    {
     "data": {
      "image/png": "[encoded data removed]",
      "text/plain": [
       "<Figure size 432x288 with 1 Axes>"
      ]
     },
     "metadata": {
      "needs_background": "light"
     },
     "output_type": "display_data"
    }
   ],
   "source": [
    "# Generate a box plot of the final tumor volume of each mouse across four regimens of interest\n",
    "green_diamond = dict(markerfacecolor='g', marker='D')\n",
    "fig, boxplots = plt.subplots()\n",
    "boxplots.set_xlabel('Drug Regimen')\n",
    "boxplots.set_xticklabels(['Capomulin', 'Ramicane', 'Infubinol', 'Ceftamin'])\n",
    "boxplots.set_ylabel('Final Tumor Volume (mm3)')\n",
    "boxplots.set_ylim(ymin = 0, ymax = 80);\n",
    "boxplots.grid('on', which='major', axis='y')\n",
    "boxplots.boxplot([capomulinList, ramicaneList, infubinolList, ceftaminList], flierprops=green_diamond);"
   ]
  },
  {
   "cell_type": "markdown",
   "metadata": {},
   "source": [
    "## Line and Scatter Plots"
   ]
  },
  {
   "cell_type": "code",
   "execution_count": 16,
   "metadata": {},
   "outputs": [
    {
     "data": {
      "image/png": "[encoded data removed]",
      "text/plain": [
       "<Figure size 432x288 with 1 Axes>"
      ]
     },
     "metadata": {
      "needs_background": "light"
     },
     "output_type": "display_data"
    }
   ],
   "source": [
    "# Generate a line plot of time point versus tumor volume for a mouse treated with Capomulin\n",
    "capomulinMice = noDuplicates.loc[noDuplicates['Drug Regimen'] == 'Capomulin']\n",
    "chosenMouse = cleanDF.loc[cleanDF['Mouse ID'] == 'b128']\n",
    "chosenMouse = chosenMouse.drop(['Mouse ID', 'Age_months', 'Weight (g)', 'Metastatic Sites', 'Sex', 'Drug Regimen'], axis=1)\n",
    "chosenMouse = chosenMouse.set_index('Timepoint')\n",
    "linePlot = chosenMouse.plot.line(legend = False, ylim = [0,50], xlim = [0, 45], yticks = [0, 5, 10, 15, 20, 25, 30, 35, 40, 45]);\n",
    "linePlot.set_ylabel(\"Tumor Volume (mm3)\");\n",
    "linePlot.grid('on', which='major', axis='both')"
   ]
  },
  {
   "cell_type": "code",
   "execution_count": 17,
   "metadata": {
    "scrolled": true
   },
   "outputs": [
    {
     "data": {
      "image/png": "[encoded data removed]",
      "text/plain": [
       "<Figure size 432x288 with 1 Axes>"
      ]
     },
     "metadata": {
      "needs_background": "light"
     },
     "output_type": "display_data"
    }
   ],
   "source": [
    "# Generate a scatter plot of mouse weight versus average tumor volume for the Capomulin regimen\n",
    "capomulinScatter = cleanDF.loc[cleanDF['Drug Regimen'] == 'Capomulin']\n",
    "capomulinScatter = capomulinScatter.reset_index()\n",
    "capomulinScatter = capomulinScatter.groupby(by = \"Mouse ID\").agg('mean')\n",
    "capomulinScatter = capomulinScatter.drop(['index', 'Age_months', 'Timepoint', 'Metastatic Sites'], axis =1)\n",
    "capomulinScatter = capomulinScatter.rename(columns = {'Tumor Volume (mm3)' : 'Avg Tumor Volume (mm3)'})\n",
    "weight = capomulinScatter['Weight (g)'].tolist()\n",
    "avgVolume = capomulinScatter['Avg Tumor Volume (mm3)'].tolist()\n",
    "plt.scatter(x = weight, y = avgVolume);\n",
    "plt.xlabel('Weight (g)');\n",
    "plt.ylabel('Avg Tumor Volume (mm3)');\n",
    "plt.ylim(ymin = 0, ymax = 50);\n",
    "plt.xlim(xmin = 0, xmax = 26);\n",
    "plt.grid(axis = 'both')"
   ]
  },
  {
   "cell_type": "markdown",
   "metadata": {},
   "source": [
    "## Correlation and Regression"
   ]
  },
  {
   "cell_type": "code",
   "execution_count": 18,
   "metadata": {},
   "outputs": [
    {
     "data": {
      "text/html": [
       "<div>\n",
       "<style scoped>\n",
       "    .dataframe tbody tr th:only-of-type {\n",
       "        vertical-align: middle;\n",
       "    }\n",
       "\n",
       "    .dataframe tbody tr th {\n",
       "        vertical-align: top;\n",
       "    }\n",
       "\n",
       "    .dataframe thead th {\n",
       "        text-align: right;\n",
       "    }\n",
       "</style>\n",
       "<table border=\"1\" class=\"dataframe\">\n",
       "  <thead>\n",
       "    <tr style=\"text-align: right;\">\n",
       "      <th></th>\n",
       "      <th>Weight (g)</th>\n",
       "      <th>Avg Tumor Volume (mm3)</th>\n",
       "    </tr>\n",
       "  </thead>\n",
       "  <tbody>\n",
       "    <tr>\n",
       "      <th>Weight (g)</th>\n",
       "      <td>1.000000</td>\n",
       "      <td>0.841936</td>\n",
       "    </tr>\n",
       "    <tr>\n",
       "      <th>Avg Tumor Volume (mm3)</th>\n",
       "      <td>0.841936</td>\n",
       "      <td>1.000000</td>\n",
       "    </tr>\n",
       "  </tbody>\n",
       "</table>\n",
       "</div>"
      ],
      "text/plain": [
       "                        Weight (g)  Avg Tumor Volume (mm3)\n",
       "Weight (g)                1.000000                0.841936\n",
       "Avg Tumor Volume (mm3)    0.841936                1.000000"
      ]
     },
     "execution_count": 18,
     "metadata": {},
     "output_type": "execute_result"
    }
   ],
   "source": [
    "# Calculate the correlation coefficient and linear regression model \n",
    "# for mouse weight and average tumor volume for the Capomulin regimen\n",
    "capomulinScatter.corr()"
   ]
  },
  {
   "cell_type": "code",
   "execution_count": 19,
   "metadata": {},
   "outputs": [
    {
     "name": "stdout",
     "output_type": "stream",
     "text": [
      "The linear regression model is LinregressResult(slope=0.9544396890241045, intercept=21.552160532685015, rvalue=0.8419363424694718, pvalue=1.3225722434712642e-07, stderr=0.1275435903320134).\n"
     ]
    }
   ],
   "source": [
    "print(f\"The linear regression model is {linregress(weight, avgVolume)}.\")"
   ]
  }
 ],
 "metadata": {
  "anaconda-cloud": {},
  "kernelspec": {
   "display_name": "Python 3",
   "language": "python",
   "name": "python3"
  },
  "language_info": {
   "codemirror_mode": {
    "name": "ipython",
    "version": 3
   },
   "file_extension": ".py",
   "mimetype": "text/x-python",
   "name": "python",
   "nbconvert_exporter": "python",
   "pygments_lexer": "ipython3",
   "version": "3.7.6"
  }
 },
 "nbformat": 4,
 "nbformat_minor": 2
}
